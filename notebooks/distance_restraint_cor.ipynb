{
 "cells": [
  {
   "cell_type": "markdown",
   "metadata": {},
   "source": [
    "### Code to Calculate Free Energy of Releasing Distance Restraint"
   ]
  },
  {
   "cell_type": "code",
   "execution_count": 26,
   "metadata": {},
   "outputs": [],
   "source": [
    "# Code closely based on restraints.py in\n",
    "# Yank https://github.com/choderalab/yank \n",
    "# (for releasing Boresch restraints)\n",
    "\n",
    "import numpy as np\n",
    "import os\n",
    "from math import pi, sin, log\n",
    "import scipy.integrate\n",
    "from Sire import Units\n",
    "\n",
    "# Constants\n",
    "v0 = ((Units.meter3/1000)/Units.mole.value()).value() # A^3, the standard state volume\n",
    "R = Units.gasr # kcal mol-1, the molar gas constant\n",
    "T = 298.15 # K\n",
    "\n",
    "def numerical_distance_integrand(r, r0, r_fb, kr):\n",
    "    \"\"\"Integrand for harmonic distance restraint. Domain is on [0, infinity], \n",
    "    but this will be truncated to [0, 8 RT] for practicality.\n",
    "\n",
    "    Args:\n",
    "        r (float): Distance to be integrated, in Angstrom \n",
    "        r0 (float): Equilibrium distance, in Angstrom\n",
    "        r_fb (float): Flat-bottomed radius, in Angstrom\n",
    "        kr (float): Force constant, in kcal mol-1 A-2\n",
    "\n",
    "    Returns:\n",
    "        float: Value of integrand\n",
    "    \"\"\"\n",
    "    r_eff = abs(r - r0) - r_fb\n",
    "    if r_eff < 0:\n",
    "        r_eff = 0\n",
    "    return (r**2)*np.exp(-(kr*r_eff**2)/(2*R*T))\n",
    "\n",
    "def get_correction(r0, r_fb, kr):\n",
    "    \"\"\"Get the free energy of releasing the harmonic distance restraint.\n",
    "    Domain is on [0, infinity], but this will be truncated to [0, 8 RT] for practicality.\n",
    "    Args:\n",
    "        r0 (float): Equilibrium distance, in Angstrom\n",
    "        r_fb (float): Flat-bottomed radius, in Angstrom\n",
    "        kr (float): Force constant, in kcal mol-1 A-2\n",
    "    Returns:\n",
    "        float: Free energy of releasing the restraint\n",
    "    \"\"\"\n",
    "    dist_at_8RT = 4*np.sqrt((R*T)/kr) + fb_radius # Dist. which gives restraint energy = 8 RT\n",
    "    r_min = max(0, r0-dist_at_8RT)\n",
    "    r_max = r0 + dist_at_8RT\n",
    "    integrand = lambda r: numerical_distance_integrand(r, r0, r_fb, kr)\n",
    "    z_r = scipy.integrate.quad(integrand, r_min, r_max)[0]\n",
    "    dg = -R*T*log(v0/(4*np.pi*z_r))\n",
    "\n",
    "    return dg"
   ]
  },
  {
   "attachments": {},
   "cell_type": "markdown",
   "metadata": {},
   "source": [
    "### Example: Free Energy of Releasing Restraint for M-Hand-R\n",
    "\n",
    "Here, r0 = 2.72 A, the force constant is 40 kcal mol-1 A-2, and the flat-bottomed radius is 0.61 A"
   ]
  },
  {
   "cell_type": "code",
   "execution_count": 28,
   "metadata": {},
   "outputs": [
    {
     "name": "stdout",
     "output_type": "stream",
     "text": [
      "Free energy of releasing flat-bottomed restraint: -1.44 kcal mol-1\n"
     ]
    }
   ],
   "source": [
    "cor = get_correction(2.72, 0.61, 40)\n",
    "print(f\"Free energy of releasing flat-bottomed restraint: {cor:.2f} kcal mol-1\")"
   ]
  }
 ],
 "metadata": {
  "kernelspec": {
   "display_name": "Python 3.9.10",
   "language": "python",
   "name": "python3"
  },
  "language_info": {
   "codemirror_mode": {
    "name": "ipython",
    "version": 3
   },
   "file_extension": ".py",
   "mimetype": "text/x-python",
   "name": "python",
   "nbconvert_exporter": "python",
   "pygments_lexer": "ipython3",
   "version": "3.9.10"
  },
  "orig_nbformat": 4,
  "vscode": {
   "interpreter": {
    "hash": "91a4ca8273f7d6826e5f84789c42688b948ba55a4a582bdc4bdb0676eea3da3d"
   }
  }
 },
 "nbformat": 4,
 "nbformat_minor": 2
}
